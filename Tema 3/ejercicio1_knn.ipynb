{
  "cells": [
    {
      "cell_type": "markdown",
      "metadata": {
        "id": "Yh0xBTornShx"
      },
      "source": [
        "## Tema 3: Naive-bayes y KNN Aprendizaje automático\n",
        "\n",
        "### Autor: José Miguel"
      ]
    },
    {
      "cell_type": "markdown",
      "metadata": {
        "id": "NKtelrMhnNIy"
      },
      "source": [
        "### Prácticas Naive Bayes y KNN (ejercicio 1)\n",
        "\n",
        "##### **1. Tomando como base este [tutorial](https://colab.research.google.com/drive/1zFIOfrceEaFkhQOEOkMWroBmNV1HAMVS?usp=drive_link),  crea un modelo de clasificación usando KNN con los mismos datos sintéticos. Para la elección de los mejores hiperparámetros usa un sistema de [validación cruzada](https://educacionadistancia.juntadeandalucia.es/centros/cordoba/pluginfile.php/406946/mod_resource/content/1/M2_SAA_S10%20-%20Validaci%C3%B3n.pdf).**\n",
        "\n"
      ]
    },
    {
      "cell_type": "markdown",
      "metadata": {
        "id": "c6zoyXdun4Bu"
      },
      "source": [
        "#### 1. Generación de datos sintéticos\n",
        "Generaremos unos datos sintéticos para el ejemplo propuesto, con la misma semilla."
      ]
    },
    {
      "cell_type": "markdown",
      "metadata": {
        "id": "QNioG-5iocje"
      },
      "source": [
        "#### 1.1 Generamos los datos sintéticos\n",
        "\n",
        "Creamos dos arrays bidimensionales:\n",
        "\n",
        "- En el primero los datos seguirán una distribución normal de media 0 y desviación estándar 1. Representarán a la Clase_0.\n",
        "- En el segundo los datos seguirán una distribución normal de media 3 y desviación estándar 1. Representarán a la Clase_1."
      ]
    },
    {
      "cell_type": "code",
      "execution_count": 105,
      "metadata": {
        "id": "WOkL1TBlomi4"
      },
      "outputs": [],
      "source": [
        "import numpy as np\n",
        "import pandas as pd\n",
        "\n",
        "# cada vez que ejecutes funciones de generación de números aleatorios obtendrás la misma secuencia de números aleatorios. \n",
        "np.random.seed(41)\n",
        "\n",
        "# Clase_0. Distribución normal de media 0 y desviación estándar 1\n",
        "class_0_data = np.random.normal(0, 1, size=(100, 2))\n",
        "class_0_labels = np.zeros(100) # Representación de etiquetas como ceros\n",
        "\n",
        "# Clase_1. Distribución normal de media 3 y desviación estándar 1\n",
        "class_1_data = np.random.normal(3, 1, size=(100, 2))\n",
        "class_1_labels = np.ones(100) # Representación de etiquetas como unos"
      ]
    },
    {
      "cell_type": "markdown",
      "metadata": {
        "id": "BSxYWbPXpJs7"
      },
      "source": [
        "#### 2. Carga de los datos en dataframe"
      ]
    },
    {
      "cell_type": "code",
      "execution_count": 106,
      "metadata": {
        "colab": {
          "base_uri": "https://localhost:8080/",
          "height": 423
        },
        "id": "sPSdYR3u_FQP",
        "outputId": "964313ec-5f34-4535-e05b-3bded80ad5ce"
      },
      "outputs": [
        {
          "data": {
            "text/html": [
              "<div>\n",
              "<style scoped>\n",
              "    .dataframe tbody tr th:only-of-type {\n",
              "        vertical-align: middle;\n",
              "    }\n",
              "\n",
              "    .dataframe tbody tr th {\n",
              "        vertical-align: top;\n",
              "    }\n",
              "\n",
              "    .dataframe thead th {\n",
              "        text-align: right;\n",
              "    }\n",
              "</style>\n",
              "<table border=\"1\" class=\"dataframe\">\n",
              "  <thead>\n",
              "    <tr style=\"text-align: right;\">\n",
              "      <th></th>\n",
              "      <th>Clase_0</th>\n",
              "      <th>Clase_1</th>\n",
              "      <th>Target</th>\n",
              "    </tr>\n",
              "  </thead>\n",
              "  <tbody>\n",
              "    <tr>\n",
              "      <th>0</th>\n",
              "      <td>-0.270712</td>\n",
              "      <td>0.104848</td>\n",
              "      <td>0</td>\n",
              "    </tr>\n",
              "    <tr>\n",
              "      <th>1</th>\n",
              "      <td>0.250528</td>\n",
              "      <td>-0.925200</td>\n",
              "      <td>0</td>\n",
              "    </tr>\n",
              "    <tr>\n",
              "      <th>2</th>\n",
              "      <td>0.567144</td>\n",
              "      <td>-1.040180</td>\n",
              "      <td>0</td>\n",
              "    </tr>\n",
              "    <tr>\n",
              "      <th>3</th>\n",
              "      <td>-0.153676</td>\n",
              "      <td>0.789852</td>\n",
              "      <td>0</td>\n",
              "    </tr>\n",
              "    <tr>\n",
              "      <th>4</th>\n",
              "      <td>-1.226216</td>\n",
              "      <td>-0.948007</td>\n",
              "      <td>0</td>\n",
              "    </tr>\n",
              "    <tr>\n",
              "      <th>...</th>\n",
              "      <td>...</td>\n",
              "      <td>...</td>\n",
              "      <td>...</td>\n",
              "    </tr>\n",
              "    <tr>\n",
              "      <th>195</th>\n",
              "      <td>3.754550</td>\n",
              "      <td>4.091037</td>\n",
              "      <td>1</td>\n",
              "    </tr>\n",
              "    <tr>\n",
              "      <th>196</th>\n",
              "      <td>3.957150</td>\n",
              "      <td>3.399005</td>\n",
              "      <td>1</td>\n",
              "    </tr>\n",
              "    <tr>\n",
              "      <th>197</th>\n",
              "      <td>1.118678</td>\n",
              "      <td>2.318888</td>\n",
              "      <td>1</td>\n",
              "    </tr>\n",
              "    <tr>\n",
              "      <th>198</th>\n",
              "      <td>4.010052</td>\n",
              "      <td>3.822308</td>\n",
              "      <td>1</td>\n",
              "    </tr>\n",
              "    <tr>\n",
              "      <th>199</th>\n",
              "      <td>2.443489</td>\n",
              "      <td>2.487389</td>\n",
              "      <td>1</td>\n",
              "    </tr>\n",
              "  </tbody>\n",
              "</table>\n",
              "<p>200 rows × 3 columns</p>\n",
              "</div>"
            ],
            "text/plain": [
              "      Clase_0   Clase_1  Target\n",
              "0   -0.270712  0.104848       0\n",
              "1    0.250528 -0.925200       0\n",
              "2    0.567144 -1.040180       0\n",
              "3   -0.153676  0.789852       0\n",
              "4   -1.226216 -0.948007       0\n",
              "..        ...       ...     ...\n",
              "195  3.754550  4.091037       1\n",
              "196  3.957150  3.399005       1\n",
              "197  1.118678  2.318888       1\n",
              "198  4.010052  3.822308       1\n",
              "199  2.443489  2.487389       1\n",
              "\n",
              "[200 rows x 3 columns]"
            ]
          },
          "execution_count": 106,
          "metadata": {},
          "output_type": "execute_result"
        }
      ],
      "source": [
        "# Formatear los datos, combinar datos de ambas clases\n",
        "X = np.vstack((class_0_data, class_1_data))\n",
        "y = np.concatenate((class_0_labels, class_1_labels))\n",
        "\n",
        "\"\"\"\n",
        "vstack: para apilar verticalmente los datos\n",
        "concatenate: para concatenar los datos\n",
        "\"\"\"\n",
        "\n",
        "# Crearemos 2 dataframes uno para las clases y otro para las caracteristicas\n",
        "df_clases = pd.DataFrame(X, columns=['Clase_0', 'Clase_1'])\n",
        "df_target = pd.DataFrame(y, columns=['Target'])\n",
        "\n",
        "# Otra forma de crear el dataset con las filas y columnas\n",
        "# df_data = pd.DataFrame(data= np.c_[X, y], columns=['Clase_0', 'Clase_1', 'Target'])\n",
        "\n",
        "# Concatenemos los 2 dataframes y el target lo pasamos a tipo int para knn.\n",
        "df_final = pd.concat([df_clases, df_target], axis=1)\n",
        "df_final.Target = df_final.Target.astype(int)\n",
        "df_final"
      ]
    },
    {
      "cell_type": "code",
      "execution_count": 107,
      "metadata": {
        "colab": {
          "base_uri": "https://localhost:8080/"
        },
        "id": "O43TNr1YtKHK",
        "outputId": "2560fb0e-dc2f-4de8-c754-1bb7c5df96cc"
      },
      "outputs": [
        {
          "data": {
            "text/plain": [
              "array([0, 1])"
            ]
          },
          "execution_count": 107,
          "metadata": {},
          "output_type": "execute_result"
        }
      ],
      "source": [
        "# comprobamos que el target sea único y tenga sólo 0 y 1\n",
        "df_final['Target'].unique()"
      ]
    },
    {
      "cell_type": "markdown",
      "metadata": {
        "id": "j85FAg8wucrB"
      },
      "source": [
        "#### 3. Selección de variables\n",
        "\n",
        "Usaremos un mapa de calor para ver la correlación entre la variable a predecir y cada una de las características."
      ]
    },
    {
      "cell_type": "code",
      "execution_count": 108,
      "metadata": {
        "colab": {
          "base_uri": "https://localhost:8080/",
          "height": 567
        },
        "id": "dthsZOA5vEST",
        "outputId": "08198e66-bd6d-4d16-f628-64a516a6eabd"
      },
      "outputs": [
        {
          "data": {
            "text/html": [
              "<div>\n",
              "<style scoped>\n",
              "    .dataframe tbody tr th:only-of-type {\n",
              "        vertical-align: middle;\n",
              "    }\n",
              "\n",
              "    .dataframe tbody tr th {\n",
              "        vertical-align: top;\n",
              "    }\n",
              "\n",
              "    .dataframe thead th {\n",
              "        text-align: right;\n",
              "    }\n",
              "</style>\n",
              "<table border=\"1\" class=\"dataframe\">\n",
              "  <thead>\n",
              "    <tr style=\"text-align: right;\">\n",
              "      <th></th>\n",
              "      <th>Clase_0</th>\n",
              "      <th>Clase_1</th>\n",
              "      <th>Target</th>\n",
              "    </tr>\n",
              "  </thead>\n",
              "  <tbody>\n",
              "    <tr>\n",
              "      <th>Clase_0</th>\n",
              "      <td>1.000000</td>\n",
              "      <td>0.711657</td>\n",
              "      <td>0.810961</td>\n",
              "    </tr>\n",
              "    <tr>\n",
              "      <th>Clase_1</th>\n",
              "      <td>0.711657</td>\n",
              "      <td>1.000000</td>\n",
              "      <td>0.861755</td>\n",
              "    </tr>\n",
              "    <tr>\n",
              "      <th>Target</th>\n",
              "      <td>0.810961</td>\n",
              "      <td>0.861755</td>\n",
              "      <td>1.000000</td>\n",
              "    </tr>\n",
              "  </tbody>\n",
              "</table>\n",
              "</div>"
            ],
            "text/plain": [
              "          Clase_0   Clase_1    Target\n",
              "Clase_0  1.000000  0.711657  0.810961\n",
              "Clase_1  0.711657  1.000000  0.861755\n",
              "Target   0.810961  0.861755  1.000000"
            ]
          },
          "execution_count": 108,
          "metadata": {},
          "output_type": "execute_result"
        },
        {
          "data": {
            "image/png": "[encoded data removed]",
            "text/plain": [
              "<Figure size 640x480 with 2 Axes>"
            ]
          },
          "metadata": {},
          "output_type": "display_data"
        }
      ],
      "source": [
        "import seaborn as sns\n",
        "\n",
        "sns.set()\n",
        "sns.heatmap(df_final.corr(), square=True, annot=True, cmap='Greens')\n",
        "\n",
        "# Las variables con una correlación cercana a 1 tienen una correlación positiva fuerte,\n",
        "# mientras que las variables con una correlación cercana a -1 tienen una correlación negativa fuerte.\n",
        "# Si la correlación está cerca de 0, las variables están débilmente correlacionadas.\n",
        "# Normalmente la correlación se hace cuando hay más de 3 variables y queremos quedarnos\n",
        "# con las menos posibles para ahorrar coste computacional.\n",
        "\n",
        "df_final.corr()"
      ]
    },
    {
      "cell_type": "markdown",
      "metadata": {
        "id": "cm9AehwGvnky"
      },
      "source": [
        "#### 4. Parametrización y validación Cruzada"
      ]
    },
    {
      "cell_type": "code",
      "execution_count": 109,
      "metadata": {
        "id": "9jCAYlRRvnMi"
      },
      "outputs": [
        {
          "data": {
            "text/html": [
              "<div>\n",
              "<style scoped>\n",
              "    .dataframe tbody tr th:only-of-type {\n",
              "        vertical-align: middle;\n",
              "    }\n",
              "\n",
              "    .dataframe tbody tr th {\n",
              "        vertical-align: top;\n",
              "    }\n",
              "\n",
              "    .dataframe thead th {\n",
              "        text-align: right;\n",
              "    }\n",
              "</style>\n",
              "<table border=\"1\" class=\"dataframe\">\n",
              "  <thead>\n",
              "    <tr style=\"text-align: right;\">\n",
              "      <th></th>\n",
              "      <th>index</th>\n",
              "      <th>Clase_0</th>\n",
              "      <th>Clase_1</th>\n",
              "      <th>Target</th>\n",
              "    </tr>\n",
              "  </thead>\n",
              "  <tbody>\n",
              "    <tr>\n",
              "      <th>0</th>\n",
              "      <td>8</td>\n",
              "      <td>-0.609778</td>\n",
              "      <td>1.469416</td>\n",
              "      <td>0</td>\n",
              "    </tr>\n",
              "    <tr>\n",
              "      <th>1</th>\n",
              "      <td>19</td>\n",
              "      <td>-0.818308</td>\n",
              "      <td>-0.962384</td>\n",
              "      <td>0</td>\n",
              "    </tr>\n",
              "    <tr>\n",
              "      <th>2</th>\n",
              "      <td>138</td>\n",
              "      <td>1.548087</td>\n",
              "      <td>3.921564</td>\n",
              "      <td>1</td>\n",
              "    </tr>\n",
              "    <tr>\n",
              "      <th>3</th>\n",
              "      <td>173</td>\n",
              "      <td>4.853147</td>\n",
              "      <td>5.114540</td>\n",
              "      <td>1</td>\n",
              "    </tr>\n",
              "    <tr>\n",
              "      <th>4</th>\n",
              "      <td>185</td>\n",
              "      <td>2.514818</td>\n",
              "      <td>2.385031</td>\n",
              "      <td>1</td>\n",
              "    </tr>\n",
              "    <tr>\n",
              "      <th>...</th>\n",
              "      <td>...</td>\n",
              "      <td>...</td>\n",
              "      <td>...</td>\n",
              "      <td>...</td>\n",
              "    </tr>\n",
              "    <tr>\n",
              "      <th>129</th>\n",
              "      <td>90</td>\n",
              "      <td>-1.234605</td>\n",
              "      <td>1.470797</td>\n",
              "      <td>0</td>\n",
              "    </tr>\n",
              "    <tr>\n",
              "      <th>130</th>\n",
              "      <td>121</td>\n",
              "      <td>1.607519</td>\n",
              "      <td>3.988415</td>\n",
              "      <td>1</td>\n",
              "    </tr>\n",
              "    <tr>\n",
              "      <th>131</th>\n",
              "      <td>155</td>\n",
              "      <td>4.514982</td>\n",
              "      <td>3.480295</td>\n",
              "      <td>1</td>\n",
              "    </tr>\n",
              "    <tr>\n",
              "      <th>132</th>\n",
              "      <td>133</td>\n",
              "      <td>2.853887</td>\n",
              "      <td>1.907700</td>\n",
              "      <td>1</td>\n",
              "    </tr>\n",
              "    <tr>\n",
              "      <th>133</th>\n",
              "      <td>84</td>\n",
              "      <td>-1.103835</td>\n",
              "      <td>1.072434</td>\n",
              "      <td>0</td>\n",
              "    </tr>\n",
              "  </tbody>\n",
              "</table>\n",
              "<p>134 rows × 4 columns</p>\n",
              "</div>"
            ],
            "text/plain": [
              "     index   Clase_0   Clase_1  Target\n",
              "0        8 -0.609778  1.469416       0\n",
              "1       19 -0.818308 -0.962384       0\n",
              "2      138  1.548087  3.921564       1\n",
              "3      173  4.853147  5.114540       1\n",
              "4      185  2.514818  2.385031       1\n",
              "..     ...       ...       ...     ...\n",
              "129     90 -1.234605  1.470797       0\n",
              "130    121  1.607519  3.988415       1\n",
              "131    155  4.514982  3.480295       1\n",
              "132    133  2.853887  1.907700       1\n",
              "133     84 -1.103835  1.072434       0\n",
              "\n",
              "[134 rows x 4 columns]"
            ]
          },
          "execution_count": 109,
          "metadata": {},
          "output_type": "execute_result"
        }
      ],
      "source": [
        "# Dividiremos el df_final en un conjunto de datos de test y entrenamiento 33% test y 67% entrenamiento\n",
        "from sklearn.model_selection import train_test_split\n",
        "\n",
        "TEST_SIZE = 0.33\n",
        "\n",
        "train, test = train_test_split(df_final, test_size = TEST_SIZE)\n",
        "# sino quitamos datos no hace falta ajustar los indíces\n",
        "# sino pongo el implace = true me devuelve un nuevo dataframe\n",
        "train.reset_index(inplace = True)\n",
        "test.reset_index(inplace = True)\n",
        "train"
      ]
    },
    {
      "cell_type": "markdown",
      "metadata": {
        "id": "xAva2K0zwNLc"
      },
      "source": [
        "Usaremos ahora el algortimo de **KNeighbors/Radius**. Me he decantado por usar el de k vecinos más cercanos."
      ]
    },
    {
      "cell_type": "code",
      "execution_count": 110,
      "metadata": {
        "colab": {
          "base_uri": "https://localhost:8080/",
          "height": 469
        },
        "id": "BR4Hkw8Fwa3P",
        "outputId": "e92cb4d5-ed54-4008-fb9c-792ac633cf19"
      },
      "outputs": [
        {
          "name": "stdout",
          "output_type": "stream",
          "text": [
            "Max Value uniform : 1.0 (1)\n",
            "Max Value distance : 1.0 (1)\n"
          ]
        },
        {
          "data": {
            "image/png": "[encoded data removed]",
            "text/plain": [
              "<Figure size 640x480 with 1 Axes>"
            ]
          },
          "metadata": {},
          "output_type": "display_data"
        }
      ],
      "source": [
        "from sklearn import neighbors\n",
        "from sklearn.model_selection import KFold\n",
        "import matplotlib.pyplot as plt\n",
        "from sklearn.metrics import accuracy_score\n",
        "\n",
        "MIN_NEIGHBORDS = 1\n",
        "MAX_NEIGHBORDS = 30\n",
        "N_SPLITS = 5 # nº de particiones\n",
        "\n",
        "# Validación cruzada cv\n",
        "cv = KFold(n_splits = N_SPLITS, shuffle = False) # shuffle = mezcla datos y entrena si está a true\n",
        "\n",
        "for i, weights in enumerate(['uniform', 'distance']):\n",
        "    total_scores = []\n",
        "\n",
        "    for n_neighbors in range(MIN_NEIGHBORDS,MAX_NEIGHBORDS+1):\n",
        "        fold_accuracy = []\n",
        "        knn = neighbors.KNeighborsClassifier(n_neighbors, weights=weights)\n",
        "        for train_fold, test_fold in cv.split(train):\n",
        "            # División train test aleatoria\n",
        "            f_train = train.loc[train_fold]\n",
        "            f_test = train.loc[test_fold]\n",
        "\n",
        "            # entrenamiento y ejecución del modelo\n",
        "            knn.fit(X = f_train.drop(['Target'], axis=1),\n",
        "                            y = f_train['Target'])\n",
        "            y_pred = knn.predict(X = f_test.drop(['Target'], axis = 1))\n",
        "\n",
        "            # evaluación del modelo\n",
        "            acc = accuracy_score(f_test['Target'], y_pred)\n",
        "            fold_accuracy.append(acc)\n",
        "\n",
        "        total_scores.append(np.mean(fold_accuracy))\n",
        "        #total_scores.append(sum(fold_accuracy)/len(fold_accuracy))\n",
        "\n",
        "    plt.plot(range(1,len(total_scores)+1), total_scores, marker='o', label=weights)\n",
        "    print ('Max Value ' +  weights + \" : \" +  str(max(total_scores)) +\" (\" + str(np.argmax(total_scores) + 1) + \")\")\n",
        "    plt.ylabel('Acc')\n",
        "\n",
        "plt.legend()\n",
        "plt.show()"
      ]
    },
    {
      "cell_type": "markdown",
      "metadata": {},
      "source": [
        "En este caso nos da lo mismo quedarnos con el valor de uniform o distance, ya que es el mismo valor."
      ]
    },
    {
      "cell_type": "markdown",
      "metadata": {
        "id": "zl9vAkB9xIKs"
      },
      "source": [
        "#### 5. Construcción y análisis del modelo con el hiperparámetro distancia."
      ]
    },
    {
      "cell_type": "markdown",
      "metadata": {
        "id": "BZwnVEE5xX_u"
      },
      "source": [
        "Una vez que hemos identificado la mejor parametrización vamos a pasar a hacer una ejecución del modelo y vamos a graficar sus resultados.\n",
        "\n",
        "Recordamos que al final del paso 1 hemos dividido en entrenamiento/tuneado y test"
      ]
    },
    {
      "cell_type": "code",
      "execution_count": 111,
      "metadata": {
        "colab": {
          "base_uri": "https://localhost:8080/"
        },
        "id": "6ITqwmSdxbqG",
        "outputId": "7b4b6974-d6c5-4451-a7b3-bcb93022feb8"
      },
      "outputs": [
        {
          "name": "stdout",
          "output_type": "stream",
          "text": [
            "Acc 0.9393939393939394\n"
          ]
        }
      ],
      "source": [
        "# Seleccionamos la mejor parametrización obtenida\n",
        "N_NEIGHBORS = 3\n",
        "WEIGHTS = 'distance'\n",
        "knn = neighbors.KNeighborsClassifier(n_neighbors = N_NEIGHBORS, weights = WEIGHTS)\n",
        "y_test = test['Target']\n",
        "\n",
        "# fit and predict\n",
        "\"\"\"\n",
        "fit: para entrenar el modelo\n",
        "predict: para ejecutar el modelo\n",
        "accuracy_score: para obtener la precisión del modelo\n",
        "\"\"\"\n",
        "knn.fit(X = train[['Clase_0','Clase_1']], y = train['Target'])\n",
        "y_pred = knn.predict(X = test[['Clase_0','Clase_1']])\n",
        "acc = accuracy_score(y_test, y_pred)\n",
        "print('Acc', acc)"
      ]
    },
    {
      "cell_type": "markdown",
      "metadata": {
        "id": "cqHLKwF00GJ9"
      },
      "source": [
        "#### 6. Visualizamos la Matriz de Confusión y los resultados"
      ]
    },
    {
      "cell_type": "code",
      "execution_count": 112,
      "metadata": {
        "colab": {
          "base_uri": "https://localhost:8080/",
          "height": 481
        },
        "id": "VXkIK8DJ0IPT",
        "outputId": "f6036d70-d6a8-4e6e-849a-2ee5f28956c7"
      },
      "outputs": [
        {
          "data": {
            "image/png": "[encoded data removed]",
            "text/plain": [
              "<Figure size 640x480 with 2 Axes>"
            ]
          },
          "metadata": {},
          "output_type": "display_data"
        }
      ],
      "source": [
        "from sklearn.metrics import confusion_matrix\n",
        "\n",
        "cm = confusion_matrix(y_test, y_pred)\n",
        "classes = ('Clase_0', 'Clase_1') # 0 y 1 los valores del unique\n",
        "sns.heatmap(cm, annot=True, cmap='Greens', xticklabels=classes, yticklabels=classes) \n",
        "# x_ticklabels y y_ticklabels para poner las etiquetas del eje x e y\n",
        "# annot = true para que los valores reales de la matriz (cm) se muestren en cada celda del mapa de calor.\n",
        "plt.title('Matriz de confusión')\n",
        "plt.xlabel('Predicciones')\n",
        "plt.ylabel('Valores Verdaderos')\n",
        "plt.show()"
      ]
    },
    {
      "cell_type": "markdown",
      "metadata": {},
      "source": [
        "Interpretación de los resultados de la matriz de confusión:\n",
        "\n",
        "- Verdaderos Positivos (TP): 32\n",
        "- Falsos Positivos (FP): 4\n",
        "- Falsos Negativos (FN): 0\n",
        "- Verdaderos Negativos (TN): 30"
      ]
    }
  ],
  "metadata": {
    "colab": {
      "provenance": []
    },
    "kernelspec": {
      "display_name": "Python 3",
      "name": "python3"
    },
    "language_info": {
      "codemirror_mode": {
        "name": "ipython",
        "version": 3
      },
      "file_extension": ".py",
      "mimetype": "text/x-python",
      "name": "python",
      "nbconvert_exporter": "python",
      "pygments_lexer": "ipython3",
      "version": "3.11.5"
    }
  },
  "nbformat": 4,
  "nbformat_minor": 0
}
